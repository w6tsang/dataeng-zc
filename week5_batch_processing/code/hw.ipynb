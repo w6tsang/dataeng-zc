{
 "cells": [
  {
   "cell_type": "code",
   "execution_count": 3,
   "id": "4014df86",
   "metadata": {},
   "outputs": [],
   "source": [
    "import pyspark\n",
    "from pyspark.sql import SparkSession"
   ]
  },
  {
   "cell_type": "code",
   "execution_count": 4,
   "id": "7516d94e",
   "metadata": {},
   "outputs": [
    {
     "name": "stderr",
     "output_type": "stream",
     "text": [
      "22/03/01 22:41:18 WARN Utils: Your hostname, CDYVRCWLT614 resolves to a loopback address: 127.0.1.1; using 172.24.1.215 instead (on interface eth0)\n",
      "22/03/01 22:41:18 WARN Utils: Set SPARK_LOCAL_IP if you need to bind to another address\n",
      "WARNING: An illegal reflective access operation has occurred\n",
      "WARNING: Illegal reflective access by org.apache.spark.unsafe.Platform (file:/home/wtsang/spark/spark-3.0.3-bin-hadoop3.2/jars/spark-unsafe_2.12-3.0.3.jar) to constructor java.nio.DirectByteBuffer(long,int)\n",
      "WARNING: Please consider reporting this to the maintainers of org.apache.spark.unsafe.Platform\n",
      "WARNING: Use --illegal-access=warn to enable warnings of further illegal reflective access operations\n",
      "WARNING: All illegal access operations will be denied in a future release\n",
      "22/03/01 22:41:20 WARN NativeCodeLoader: Unable to load native-hadoop library for your platform... using builtin-java classes where applicable\n",
      "Using Spark's default log4j profile: org/apache/spark/log4j-defaults.properties\n",
      "Setting default log level to \"WARN\".\n",
      "To adjust logging level use sc.setLogLevel(newLevel). For SparkR, use setLogLevel(newLevel).\n"
     ]
    }
   ],
   "source": [
    "spark = SparkSession.builder \\\n",
    "    .master(\"local[*]\") \\\n",
    "    .appName('test') \\\n",
    "    .getOrCreate()"
   ]
  },
  {
   "cell_type": "code",
   "execution_count": 5,
   "id": "50e929ca",
   "metadata": {},
   "outputs": [],
   "source": [
    "import pandas as pd\n",
    "from pyspark.sql import types"
   ]
  },
  {
   "cell_type": "markdown",
   "id": "c27518b3",
   "metadata": {},
   "source": [
    "# q1"
   ]
  },
  {
   "cell_type": "code",
   "execution_count": 6,
   "id": "9fa31551",
   "metadata": {},
   "outputs": [
    {
     "data": {
      "text/plain": [
       "'3.0.3'"
      ]
     },
     "execution_count": 6,
     "metadata": {},
     "output_type": "execute_result"
    }
   ],
   "source": [
    "spark.version"
   ]
  },
  {
   "cell_type": "markdown",
   "id": "bf6470ac",
   "metadata": {},
   "source": [
    "# q2"
   ]
  },
  {
   "cell_type": "code",
   "execution_count": 7,
   "id": "d330c01b",
   "metadata": {},
   "outputs": [
    {
     "name": "stdout",
     "output_type": "stream",
     "text": [
      "--2022-03-01 22:43:47--  https://nyc-tlc.s3.amazonaws.com/trip+data/fhvhv_tripdata_2021-02.csv\n",
      "Resolving nyc-tlc.s3.amazonaws.com (nyc-tlc.s3.amazonaws.com)... 52.217.140.81\n",
      "Connecting to nyc-tlc.s3.amazonaws.com (nyc-tlc.s3.amazonaws.com)|52.217.140.81|:443... connected.\n",
      "HTTP request sent, awaiting response... 200 OK\n",
      "Length: 733822658 (700M) [text/csv]\n",
      "Saving to: ‘fhvhv_tripdata_2021-02.csv’\n",
      "\n",
      "fhvhv_tripdata_2021 100%[===================>] 699.83M  4.62MB/s    in 2m 55s  \n",
      "\n",
      "2022-03-01 22:46:43 (4.00 MB/s) - ‘fhvhv_tripdata_2021-02.csv’ saved [733822658/733822658]\n",
      "\n"
     ]
    }
   ],
   "source": [
    "!wget https://nyc-tlc.s3.amazonaws.com/trip+data/fhvhv_tripdata_2021-02.csv"
   ]
  },
  {
   "cell_type": "code",
   "execution_count": 8,
   "id": "b5c4535e",
   "metadata": {},
   "outputs": [],
   "source": [
    "schema = types.StructType(\n",
    "    [\n",
    "        types.StructField('hvfhs_license_num', types.StringType(), True),\n",
    "        types.StructField('dispatching_base_num', types.StringType(), True),\n",
    "        types.StructField('pickup_datetime', types.TimestampType(), True),\n",
    "        types.StructField('dropoff_datetime', types.TimestampType(), True),\n",
    "        types.StructField('PULocationID', types.IntegerType(), True),\n",
    "        types.StructField('DOLocationID', types.IntegerType(), True),\n",
    "        types.StructField('SR_Flag', types.StringType(), True)\n",
    "    ]\n",
    ")"
   ]
  },
  {
   "cell_type": "code",
   "execution_count": 38,
   "id": "08fd77bd",
   "metadata": {},
   "outputs": [],
   "source": [
    "df = spark.read \\\n",
    "    .option(\"header\", \"true\") \\\n",
    "    .schema(schema) \\\n",
    "    .csv('fhvhv_tripdata_2021-02.csv')"
   ]
  },
  {
   "cell_type": "code",
   "execution_count": 39,
   "id": "95d28667",
   "metadata": {},
   "outputs": [
    {
     "name": "stdout",
     "output_type": "stream",
     "text": [
      "+----------+-------+-------------------+-------------------+\n",
      "|LocationID|Borough|               Zone|       service_zone|\n",
      "+----------+-------+-------------------+-------------------+\n",
      "|      null| B02764|2021-02-01 00:10:40|2021-02-01 00:21:09|\n",
      "|      null| B02764|2021-02-01 00:27:23|2021-02-01 00:44:01|\n",
      "|      null| B02510|2021-02-01 00:28:38|2021-02-01 00:38:27|\n",
      "|      null| B02510|2021-02-01 00:43:37|2021-02-01 01:23:20|\n",
      "|      null| B02872|2021-02-01 00:08:42|2021-02-01 00:17:57|\n",
      "|      null| B02872|2021-02-01 00:26:02|2021-02-01 00:42:51|\n",
      "|      null| B02872|2021-02-01 00:45:50|2021-02-01 01:02:50|\n",
      "|      null| B02764|2021-02-01 00:06:42|2021-02-01 00:31:50|\n",
      "|      null| B02764|2021-02-01 00:34:34|2021-02-01 00:58:13|\n",
      "|      null| B02510|2021-02-01 00:03:43|2021-02-01 00:39:37|\n",
      "|      null| B02510|2021-02-01 00:55:36|2021-02-01 01:08:39|\n",
      "|      null| B02510|2021-02-01 00:06:13|2021-02-01 00:33:45|\n",
      "|      null| B02510|2021-02-01 00:42:24|2021-02-01 01:11:31|\n",
      "|      null| B02764|2021-02-01 00:07:05|2021-02-01 00:20:53|\n",
      "|      null| B02764|2021-02-01 00:28:56|2021-02-01 00:33:59|\n",
      "|      null| B02764|2021-02-01 00:44:53|2021-02-01 01:07:54|\n",
      "|      null| B02888|2021-02-01 00:17:55|2021-02-01 00:34:41|\n",
      "|      null| B02888|2021-02-01 00:38:14|2021-02-01 00:59:20|\n",
      "|      null| B02800|2021-02-01 00:08:04|2021-02-01 00:24:41|\n",
      "|      null| B02800|2021-02-01 00:30:44|2021-02-01 00:41:26|\n",
      "+----------+-------+-------------------+-------------------+\n",
      "only showing top 20 rows\n",
      "\n"
     ]
    },
    {
     "name": "stderr",
     "output_type": "stream",
     "text": [
      "22/03/01 23:22:50 WARN CSVHeaderChecker: Number of column in CSV header is not equal to number of fields in the schema:\n",
      " Header length: 7, schema size: 4\n",
      "CSV file: file:///home/wtsang/projects/dataeng-zc/week5_batch_processing/code/fhvhv_tripdata_2021-02.csv\n"
     ]
    }
   ],
   "source": [
    "df.show()"
   ]
  },
  {
   "cell_type": "code",
   "execution_count": 11,
   "id": "ea6e6903",
   "metadata": {},
   "outputs": [
    {
     "name": "stderr",
     "output_type": "stream",
     "text": [
      "22/03/01 22:47:54 WARN MemoryManager: Total allocation exceeds 95.00% (1,020,054,720 bytes) of heap memory\n",
      "Scaling row group sizes to 95.00% for 8 writers\n",
      "22/03/01 22:47:57 WARN MemoryManager: Total allocation exceeds 95.00% (1,020,054,720 bytes) of heap memory\n",
      "Scaling row group sizes to 95.00% for 8 writers\n",
      "22/03/01 22:47:59 WARN MemoryManager: Total allocation exceeds 95.00% (1,020,054,720 bytes) of heap memory\n",
      "Scaling row group sizes to 95.00% for 8 writers\n",
      "22/03/01 22:47:59 WARN MemoryManager: Total allocation exceeds 95.00% (1,020,054,720 bytes) of heap memory\n",
      "Scaling row group sizes to 95.00% for 8 writers\n",
      "                                                                                \r"
     ]
    }
   ],
   "source": [
    "# format to parquet\n",
    "df = df.repartition(24).write.parquet('fhvhv/2021/02/', mode='overwrite')"
   ]
  },
  {
   "cell_type": "code",
   "execution_count": 12,
   "id": "bd1857aa",
   "metadata": {},
   "outputs": [
    {
     "name": "stdout",
     "output_type": "stream",
     "text": [
      "208M\tfhvhv/2021/02\r\n",
      "208M\tfhvhv/2021\r\n",
      "208M\tfhvhv\r\n"
     ]
    }
   ],
   "source": [
    "# folder size\n",
    "!du -h fhvhv"
   ]
  },
  {
   "cell_type": "markdown",
   "id": "05abd8ec",
   "metadata": {},
   "source": [
    "# q3 taxi trips"
   ]
  },
  {
   "cell_type": "code",
   "execution_count": null,
   "id": "97fb9b27",
   "metadata": {},
   "outputs": [],
   "source": [
    "from pyspark.sql import functions as F"
   ]
  },
  {
   "cell_type": "code",
   "execution_count": 40,
   "id": "d513f0c4",
   "metadata": {},
   "outputs": [],
   "source": [
    "df = spark.read.parquet('fhvhv/2021/02/*')\n",
    "df.registerTempTable('fhvhv')"
   ]
  },
  {
   "cell_type": "code",
   "execution_count": 41,
   "id": "aa63b67b",
   "metadata": {},
   "outputs": [
    {
     "name": "stdout",
     "output_type": "stream",
     "text": [
      "+--------+\n",
      "|count(1)|\n",
      "+--------+\n",
      "|  367170|\n",
      "+--------+\n",
      "\n"
     ]
    },
    {
     "name": "stderr",
     "output_type": "stream",
     "text": [
      "\r",
      "[Stage 32:>                                                         (0 + 8) / 8]\r",
      "\r",
      "                                                                                \r"
     ]
    }
   ],
   "source": [
    "spark.sql(\"\"\"\n",
    "SELECT\n",
    "    COUNT(*)\n",
    "FROM\n",
    "    fhvhv\n",
    "WHERE\n",
    "    DATE(pickup_datetime) = '2021-02-15'\n",
    "\"\"\").show()"
   ]
  },
  {
   "cell_type": "code",
   "execution_count": 25,
   "id": "62c9d2a0",
   "metadata": {},
   "outputs": [
    {
     "name": "stderr",
     "output_type": "stream",
     "text": [
      "\r",
      "[Stage 10:>                                                         (0 + 8) / 8]\r"
     ]
    },
    {
     "name": "stdout",
     "output_type": "stream",
     "text": [
      "+-------------------+--------+\n",
      "|    pickup_datetime|duration|\n",
      "+-------------------+--------+\n",
      "|2021-02-11 13:40:44|   75540|\n",
      "|2021-02-17 15:54:53|   57221|\n",
      "|2021-02-20 12:08:15|   44039|\n",
      "|2021-02-03 20:24:25|   40653|\n",
      "|2021-02-19 23:17:44|   37577|\n",
      "|2021-02-25 17:13:35|   35010|\n",
      "|2021-02-20 01:36:13|   34806|\n",
      "|2021-02-18 15:24:19|   34612|\n",
      "|2021-02-18 01:31:20|   34555|\n",
      "|2021-02-10 20:51:39|   34169|\n",
      "|2021-02-10 01:56:17|   32476|\n",
      "|2021-02-25 09:18:18|   32439|\n",
      "|2021-02-21 19:59:13|   32223|\n",
      "|2021-02-09 18:36:13|   32087|\n",
      "|2021-02-06 09:48:09|   31447|\n",
      "|2021-02-02 09:42:30|   30913|\n",
      "|2021-02-10 10:12:08|   30856|\n",
      "|2021-02-09 13:30:13|   30732|\n",
      "|2021-02-21 22:50:52|   30660|\n",
      "|2021-02-05 21:32:33|   30511|\n",
      "+-------------------+--------+\n",
      "only showing top 20 rows\n",
      "\n"
     ]
    },
    {
     "name": "stderr",
     "output_type": "stream",
     "text": [
      "\r",
      "[Stage 10:==============>                                           (2 + 6) / 8]\r",
      "\r",
      "                                                                                \r"
     ]
    }
   ],
   "source": [
    "# q4 longest trip\n",
    "spark.sql(\"\"\"\n",
    "SELECT\n",
    "    pickup_datetime,\n",
    "    unix_timestamp(dropoff_datetime) - unix_timestamp(pickup_datetime) as duration\n",
    "FROM\n",
    "    fhvhv\n",
    "ORDER BY duration DESC\n",
    "\"\"\").show()"
   ]
  },
  {
   "cell_type": "code",
   "execution_count": 32,
   "id": "058317fb",
   "metadata": {},
   "outputs": [
    {
     "name": "stdout",
     "output_type": "stream",
     "text": [
      "+--------------------+-------+\n",
      "|dispatching_base_num|  count|\n",
      "+--------------------+-------+\n",
      "|              B02510|3233664|\n",
      "|              B02764| 965568|\n",
      "|              B02872| 882689|\n",
      "|              B02875| 685390|\n",
      "|              B02765| 559768|\n",
      "|              B02869| 429720|\n",
      "|              B02887| 322331|\n",
      "|              B02871| 312364|\n",
      "|              B02864| 311603|\n",
      "|              B02866| 311089|\n",
      "|              B02878| 305185|\n",
      "|              B02682| 303255|\n",
      "|              B02617| 274510|\n",
      "|              B02883| 251617|\n",
      "|              B02884| 244963|\n",
      "|              B02882| 232173|\n",
      "|              B02876| 215693|\n",
      "|              B02879| 210137|\n",
      "|              B02867| 200530|\n",
      "|              B02877| 198938|\n",
      "+--------------------+-------+\n",
      "only showing top 20 rows\n",
      "\n"
     ]
    }
   ],
   "source": [
    "#q5\n",
    "from pyspark.sql.functions import desc\n",
    "\n",
    "df.groupby('dispatching_base_num').count().sort(desc('count')).show()"
   ]
  },
  {
   "cell_type": "code",
   "execution_count": 33,
   "id": "52b53747",
   "metadata": {},
   "outputs": [],
   "source": [
    "#6 common pair\n",
    "schema = types.StructType(\n",
    "    [\n",
    "        types.StructField('LocationID', types.IntegerType(), True),\n",
    "        types.StructField('Borough', types.StringType(), True),\n",
    "        types.StructField('Zone', types.StringType(), True),\n",
    "        types.StructField('service_zone', types.StringType(), True)\n",
    "    ]\n",
    ")\n",
    "\n",
    "df = spark.read \\\n",
    "    .option(\"header\", \"true\") \\\n",
    "    .schema(schema) \\\n",
    "    .csv('taxi+_zone_lookup.csv')\n",
    "\n",
    "df = df.repartition(24).write.parquet('zones/', mode='overwrite')"
   ]
  },
  {
   "cell_type": "code",
   "execution_count": 42,
   "id": "bf05092b",
   "metadata": {},
   "outputs": [],
   "source": [
    "df_zones = spark.read.parquet('zones/')\n",
    "df_zones.registerTempTable('zones')\n",
    "\n"
   ]
  },
  {
   "cell_type": "code",
   "execution_count": 43,
   "id": "1e584ff4",
   "metadata": {},
   "outputs": [
    {
     "name": "stderr",
     "output_type": "stream",
     "text": [
      "[Stage 36:=======>                                                  (1 + 7) / 8]\r"
     ]
    },
    {
     "name": "stdout",
     "output_type": "stream",
     "text": [
      "+--------------------+--------+\n",
      "|                pair|count(1)|\n",
      "+--------------------+--------+\n",
      "|East New York/Eas...|   45041|\n",
      "+--------------------+--------+\n",
      "\n"
     ]
    },
    {
     "name": "stderr",
     "output_type": "stream",
     "text": [
      "22/03/02 01:00:43 WARN HeartbeatReceiver: Removing executor driver with no recent heartbeats: 1547854 ms exceeds timeout 120000 ms\n",
      "22/03/02 01:00:43 WARN SparkContext: Killing executors is not supported by current scheduler.\n"
     ]
    }
   ],
   "source": [
    "spark.sql(\"\"\"\n",
    "SELECT\n",
    "    CONCAT(coalesce(pu.Zone, 'Unknown'), '/', coalesce(do.Zone, 'Unknown')) AS pair,\n",
    "    COUNT(*)\n",
    "FROM\n",
    "    fhvhv\n",
    "LEFT JOIN zones as pu\n",
    "    ON fhvhv.PULocationID = pu.LocationID\n",
    "LEFT JOIN zones as do\n",
    "    ON fhvhv.DOLocationID = do.LocationID\n",
    "GROUP BY\n",
    "    1\n",
    "ORDER BY\n",
    "    2 DESC\n",
    "LIMIT\n",
    "    1\n",
    ";\n",
    "\"\"\").show()"
   ]
  }
 ],
 "metadata": {
  "kernelspec": {
   "display_name": "Python 3 (ipykernel)",
   "language": "python",
   "name": "python3"
  },
  "language_info": {
   "codemirror_mode": {
    "name": "ipython",
    "version": 3
   },
   "file_extension": ".py",
   "mimetype": "text/x-python",
   "name": "python",
   "nbconvert_exporter": "python",
   "pygments_lexer": "ipython3",
   "version": "3.9.7"
  }
 },
 "nbformat": 4,
 "nbformat_minor": 5
}
